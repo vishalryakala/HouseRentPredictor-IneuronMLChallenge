{
  "nbformat": 4,
  "nbformat_minor": 0,
  "metadata": {
    "colab": {
      "name": "HouseRent Final.ipynb",
      "provenance": [],
      "collapsed_sections": []
    },
    "kernelspec": {
      "name": "python3",
      "display_name": "Python 3"
    }
  },
  "cells": [
    {
      "cell_type": "code",
      "metadata": {
        "id": "GziakD_hgZSp",
        "colab_type": "code",
        "outputId": "8e821362-3952-4d44-e651-f90b16a655c2",
        "colab": {
          "base_uri": "https://localhost:8080/",
          "height": 74
        }
      },
      "source": [
        "import pandas as pd\n",
        "import numpy as np\n",
        "import matplotlib.pyplot as plt\n",
        "import seaborn as sns\n",
        "from scipy.stats import iqr\n",
        "from sklearn import preprocessing\n",
        "from sklearn.decomposition import PCA \n",
        "from sklearn.model_selection import GridSearchCV\n",
        "from sklearn.ensemble import RandomForestRegressor\n",
        "from sklearn.linear_model import LinearRegression\n",
        "from sklearn.metrics import mean_squared_error,mean_absolute_error\n",
        "from sklearn.ensemble import RandomForestRegressor\n",
        "from sklearn.ensemble import ExtraTreesRegressor\n",
        "from sklearn.ensemble import AdaBoostRegressor\n",
        "from sklearn.ensemble import GradientBoostingRegressor\n",
        "from sklearn.model_selection import train_test_split,cross_val_score\n",
        "import xgboost as xgb"
      ],
      "execution_count": 1,
      "outputs": [
        {
          "output_type": "stream",
          "text": [
            "/usr/local/lib/python3.6/dist-packages/statsmodels/tools/_testing.py:19: FutureWarning: pandas.util.testing is deprecated. Use the functions in the public API at pandas.testing instead.\n",
            "  import pandas.util.testing as tm\n"
          ],
          "name": "stderr"
        }
      ]
    },
    {
      "cell_type": "code",
      "metadata": {
        "id": "Rin-UfQAganS",
        "colab_type": "code",
        "outputId": "a9a859d4-3cb3-482d-8322-ed6ceaeac141",
        "colab": {
          "base_uri": "https://localhost:8080/",
          "height": 35
        }
      },
      "source": [
        "from google.colab import drive\n",
        "drive.mount('/content/drive/')"
      ],
      "execution_count": 2,
      "outputs": [
        {
          "output_type": "stream",
          "text": [
            "Drive already mounted at /content/drive/; to attempt to forcibly remount, call drive.mount(\"/content/drive/\", force_remount=True).\n"
          ],
          "name": "stdout"
        }
      ]
    },
    {
      "cell_type": "code",
      "metadata": {
        "id": "qhqDEiAVgca0",
        "colab_type": "code",
        "colab": {}
      },
      "source": [
        "data_path='/content/drive/My Drive/Projects/housing_train.csv'"
      ],
      "execution_count": 0,
      "outputs": []
    },
    {
      "cell_type": "code",
      "metadata": {
        "id": "0DVbcRs4gf3o",
        "colab_type": "code",
        "colab": {}
      },
      "source": [
        "data=pd.read_csv(data_path)"
      ],
      "execution_count": 0,
      "outputs": []
    },
    {
      "cell_type": "code",
      "metadata": {
        "id": "SmnM8xfeggKB",
        "colab_type": "code",
        "colab": {}
      },
      "source": [
        "data.drop(columns=['id','url','region_url','image_url','description'],inplace=True)"
      ],
      "execution_count": 0,
      "outputs": []
    },
    {
      "cell_type": "code",
      "metadata": {
        "id": "H2Flv3q5gjBz",
        "colab_type": "code",
        "outputId": "33ff7a77-3f01-4615-e824-8d76ebe0867a",
        "colab": {
          "base_uri": "https://localhost:8080/",
          "height": 1000
        }
      },
      "source": [
        "regions_list=data.region.unique()\n",
        "regions_dict = {val : idx + 1 for idx, val in enumerate(regions_list)}\n",
        "data['region_code'] = data['region'].map(regions_dict)\n",
        "regions_dict"
      ],
      "execution_count": 6,
      "outputs": [
        {
          "output_type": "execute_result",
          "data": {
            "text/plain": [
              "{'SF bay area': 48,\n",
              " 'akron / canton': 272,\n",
              " 'albany': 92,\n",
              " 'albuquerque': 242,\n",
              " 'ames': 122,\n",
              " 'anchorage / mat-su': 9,\n",
              " 'ann arbor': 176,\n",
              " 'annapolis': 167,\n",
              " 'asheville': 204,\n",
              " 'ashtabula': 282,\n",
              " 'athens': 90,\n",
              " 'atlanta': 87,\n",
              " 'augusta': 88,\n",
              " 'bakersfield': 18,\n",
              " 'baltimore': 168,\n",
              " 'baton rouge': 145,\n",
              " 'battle creek': 177,\n",
              " 'bemidji': 189,\n",
              " 'bend': 287,\n",
              " 'billings': 215,\n",
              " 'binghamton': 256,\n",
              " 'birmingham': 1,\n",
              " 'bismarck': 273,\n",
              " 'bloomington': 115,\n",
              " 'bloomington-normal': 104,\n",
              " 'boise': 99,\n",
              " 'boone': 214,\n",
              " 'boston': 171,\n",
              " 'boulder': 35,\n",
              " 'bowling green': 139,\n",
              " 'bozeman': 226,\n",
              " 'brainerd': 196,\n",
              " 'brunswick': 89,\n",
              " 'buffalo': 243,\n",
              " 'butte': 231,\n",
              " 'cape cod / islands': 187,\n",
              " 'catskills': 250,\n",
              " 'cedar rapids': 131,\n",
              " 'central NJ': 238,\n",
              " 'central louisiana': 162,\n",
              " 'central michigan': 190,\n",
              " 'champaign urbana': 105,\n",
              " 'charlotte': 213,\n",
              " 'chautauqua': 262,\n",
              " 'chicago': 106,\n",
              " 'chico': 33,\n",
              " 'chillicothe': 284,\n",
              " 'cincinnati': 270,\n",
              " 'cleveland': 276,\n",
              " 'clovis / portales': 260,\n",
              " 'colorado springs': 52,\n",
              " 'columbia / jeff city': 210,\n",
              " 'columbus': 95,\n",
              " 'corvallis/albany': 288,\n",
              " 'cumberland valley': 180,\n",
              " 'dayton / springfield': 275,\n",
              " 'daytona beach': 67,\n",
              " 'decatur': 108,\n",
              " 'delaware': 74,\n",
              " 'denver': 57,\n",
              " 'des moines': 132,\n",
              " 'detroit metro': 178,\n",
              " 'dothan': 3,\n",
              " 'dubuque': 144,\n",
              " 'duluth / superior': 197,\n",
              " 'east idaho': 100,\n",
              " 'east oregon': 290,\n",
              " 'eastern CO': 72,\n",
              " 'eastern CT': 61,\n",
              " 'eastern NC': 217,\n",
              " 'eastern kentucky': 141,\n",
              " 'eastern montana': 227,\n",
              " 'eastern shore': 186,\n",
              " 'elko': 259,\n",
              " 'elmira-corning': 263,\n",
              " 'eugene': 291,\n",
              " 'evansville': 113,\n",
              " 'fairbanks': 10,\n",
              " 'fargo / moorhead': 198,\n",
              " 'farmington': 245,\n",
              " 'fayetteville': 17,\n",
              " 'finger lakes': 261,\n",
              " 'flagstaff / sedona': 12,\n",
              " 'flint': 181,\n",
              " 'florence / muscle shoals': 6,\n",
              " 'florida keys': 76,\n",
              " 'fort collins / north CO': 59,\n",
              " 'fort dodge': 135,\n",
              " 'fort smith': 28,\n",
              " 'fort wayne': 119,\n",
              " 'frederick': 169,\n",
              " 'fresno / madera': 20,\n",
              " 'ft myers / SW florida': 68,\n",
              " 'gadsden-anniston': 7,\n",
              " 'gainesville': 69,\n",
              " 'glens falls': 266,\n",
              " 'gold country': 31,\n",
              " 'grand forks': 274,\n",
              " 'grand island': 252,\n",
              " 'grand rapids': 188,\n",
              " 'great falls': 229,\n",
              " 'greensboro': 218,\n",
              " 'gulfport / biloxi': 201,\n",
              " 'hanford-corcoran': 21,\n",
              " 'hartford': 62,\n",
              " 'hattiesburg': 203,\n",
              " 'hawaii': 98,\n",
              " 'heartland florida': 73,\n",
              " 'helena': 230,\n",
              " 'hickory / lenoir': 220,\n",
              " 'high rockies': 65,\n",
              " 'holland': 179,\n",
              " 'houma': 163,\n",
              " 'hudson valley': 247,\n",
              " 'humboldt county': 22,\n",
              " 'huntington-ashland': 158,\n",
              " 'huntsville / decatur': 2,\n",
              " 'imperial county': 34,\n",
              " 'indianapolis': 118,\n",
              " 'inland empire': 23,\n",
              " 'iowa city': 142,\n",
              " 'ithaca': 244,\n",
              " 'jackson': 192,\n",
              " 'jacksonville': 70,\n",
              " 'jersey shore': 240,\n",
              " 'jonesboro': 29,\n",
              " 'joplin': 206,\n",
              " 'kalamazoo': 182,\n",
              " 'kalispell': 228,\n",
              " 'kansas city': 224,\n",
              " 'kansas city, MO': 154,\n",
              " 'kenai peninsula': 25,\n",
              " 'kirksville': 207,\n",
              " 'kokomo': 129,\n",
              " 'la salle co': 109,\n",
              " 'lafayette': 150,\n",
              " 'lafayette / west lafayette': 128,\n",
              " 'lake charles': 156,\n",
              " 'lake of the ozarks': 221,\n",
              " 'lakeland': 75,\n",
              " 'lansing': 166,\n",
              " 'las cruces': 264,\n",
              " 'las vegas': 236,\n",
              " 'lawrence': 136,\n",
              " 'lawton': 283,\n",
              " 'lewiston / clarkston': 116,\n",
              " 'lexington': 140,\n",
              " 'lima / findlay': 277,\n",
              " 'lincoln': 235,\n",
              " 'little rock': 14,\n",
              " 'long island': 246,\n",
              " 'los angeles': 24,\n",
              " 'louisville': 143,\n",
              " 'macon / warner robins': 94,\n",
              " 'maine': 165,\n",
              " 'manhattan': 147,\n",
              " 'mankato': 208,\n",
              " 'mansfield': 295,\n",
              " 'mason city': 152,\n",
              " 'mattoon-charleston': 125,\n",
              " 'medford-ashland': 292,\n",
              " 'mendocino county': 38,\n",
              " 'merced': 39,\n",
              " 'meridian': 222,\n",
              " 'minneapolis / st paul': 199,\n",
              " 'missoula': 216,\n",
              " 'mobile': 4,\n",
              " 'modesto': 36,\n",
              " 'mohave county': 27,\n",
              " 'monroe': 151,\n",
              " 'monterey bay': 42,\n",
              " 'montgomery': 5,\n",
              " 'muncie / anderson': 126,\n",
              " 'muskegon': 183,\n",
              " 'new hampshire': 258,\n",
              " 'new haven': 63,\n",
              " 'new orleans': 153,\n",
              " 'new york city': 255,\n",
              " 'north central FL': 77,\n",
              " 'north dakota': 271,\n",
              " 'north jersey': 239,\n",
              " 'north mississippi': 205,\n",
              " 'north platte': 237,\n",
              " 'northern michigan': 191,\n",
              " 'northern panhandle': 279,\n",
              " 'northwest CT': 58,\n",
              " 'northwest GA': 96,\n",
              " 'northwest KS': 159,\n",
              " 'northwest OK': 298,\n",
              " 'ocala': 71,\n",
              " 'okaloosa / walton': 83,\n",
              " 'oklahoma city': 280,\n",
              " 'omaha / council bluffs': 133,\n",
              " 'oneonta': 268,\n",
              " 'orange county': 37,\n",
              " 'oregon coast': 293,\n",
              " 'orlando': 78,\n",
              " 'outer banks': 232,\n",
              " 'owensboro': 164,\n",
              " 'palm springs': 40,\n",
              " 'panama city': 79,\n",
              " 'parkersburg-marietta': 297,\n",
              " 'pensacola': 80,\n",
              " 'peoria': 112,\n",
              " 'phoenix': 11,\n",
              " 'plattsburgh-adirondacks': 249,\n",
              " 'port huron': 195,\n",
              " 'portland': 294,\n",
              " 'potsdam-canton-massena': 267,\n",
              " 'prescott': 15,\n",
              " 'pueblo': 66,\n",
              " 'pullman / moscow': 117,\n",
              " 'quad cities, IA/IL': 110,\n",
              " 'raleigh / durham / CH': 219,\n",
              " 'redding': 43,\n",
              " 'reno / tahoe': 41,\n",
              " 'richmond': 123,\n",
              " 'rochester': 200,\n",
              " 'rockford': 120,\n",
              " 'roswell / carlsbad': 265,\n",
              " 'sacramento': 44,\n",
              " 'saginaw-midland-baycity': 184,\n",
              " 'salina': 137,\n",
              " 'san diego': 45,\n",
              " 'san luis obispo': 46,\n",
              " 'santa barbara': 47,\n",
              " 'santa fe / taos': 253,\n",
              " 'santa maria': 56,\n",
              " 'sarasota-bradenton': 81,\n",
              " 'savannah / hinesville': 97,\n",
              " 'scottsbluff / panhandle': 254,\n",
              " 'show low': 30,\n",
              " 'shreveport': 161,\n",
              " 'sierra vista': 32,\n",
              " 'sioux city': 138,\n",
              " 'siskiyou county': 55,\n",
              " 'south bend / michiana': 121,\n",
              " 'south coast': 172,\n",
              " 'south florida': 82,\n",
              " 'south jersey': 241,\n",
              " 'southeast IA': 155,\n",
              " 'southeast KS': 157,\n",
              " 'southeast alaska': 26,\n",
              " 'southeast missouri': 223,\n",
              " 'southern illinois': 124,\n",
              " 'southern maryland': 170,\n",
              " 'southwest KS': 160,\n",
              " 'southwest MN': 211,\n",
              " 'southwest MS': 209,\n",
              " 'southwest michigan': 193,\n",
              " 'space coast': 84,\n",
              " \"spokane / coeur d'alene\": 102,\n",
              " 'springfield': 114,\n",
              " 'st augustine': 93,\n",
              " 'st cloud': 202,\n",
              " 'st joseph': 212,\n",
              " 'st louis': 225,\n",
              " 'st louis, MO': 111,\n",
              " 'statesboro': 101,\n",
              " 'stillwater': 296,\n",
              " 'stockton': 49,\n",
              " 'susanville': 51,\n",
              " 'syracuse': 248,\n",
              " 'tallahassee': 85,\n",
              " 'tampa bay area': 86,\n",
              " 'terre haute': 130,\n",
              " 'texarkana': 19,\n",
              " 'texoma': 285,\n",
              " 'the thumb': 194,\n",
              " 'toledo': 278,\n",
              " 'topeka': 149,\n",
              " 'treasure coast': 91,\n",
              " 'tucson': 13,\n",
              " 'tulsa': 286,\n",
              " 'tuscaloosa': 8,\n",
              " 'tuscarawas co': 289,\n",
              " 'twin falls': 107,\n",
              " 'twin tiers NY/PA': 269,\n",
              " 'upper peninsula': 185,\n",
              " 'utica-rome-oneida': 257,\n",
              " 'valdosta': 103,\n",
              " 'ventura county': 50,\n",
              " 'visalia-tulare': 54,\n",
              " 'washington, DC': 64,\n",
              " 'waterloo / cedar falls': 146,\n",
              " 'watertown': 251,\n",
              " 'western IL': 127,\n",
              " 'western KY': 148,\n",
              " 'western maryland': 175,\n",
              " 'western massachusetts': 173,\n",
              " 'western slope': 60,\n",
              " 'wichita': 134,\n",
              " 'wilmington': 233,\n",
              " 'winston-salem': 234,\n",
              " 'worcester / central MA': 174,\n",
              " 'yuba-sutter': 53,\n",
              " 'yuma': 16,\n",
              " 'zanesville / cambridge': 281}"
            ]
          },
          "metadata": {
            "tags": []
          },
          "execution_count": 6
        }
      ]
    },
    {
      "cell_type": "code",
      "metadata": {
        "id": "Q__VvRnnguVy",
        "colab_type": "code",
        "colab": {}
      },
      "source": [
        "laundry_list=data.laundry_options.unique()\n",
        "laundry_dict = {val : idx + 1 for idx, val in enumerate(laundry_list)}\n",
        "data['laundry_options_code'] = data['laundry_options'].map(laundry_dict)"
      ],
      "execution_count": 0,
      "outputs": []
    },
    {
      "cell_type": "code",
      "metadata": {
        "id": "Dmz9E8qpg5v3",
        "colab_type": "code",
        "colab": {}
      },
      "source": [
        "parking_list=data.parking_options.unique()\n",
        "parking_dict = {val : idx + 1 for idx, val in enumerate(parking_list)}\n",
        "data['parking_options_code'] = data['parking_options'].map(parking_dict)"
      ],
      "execution_count": 0,
      "outputs": []
    },
    {
      "cell_type": "code",
      "metadata": {
        "id": "k7lIX7gwhA9I",
        "colab_type": "code",
        "outputId": "ac0019d0-154a-423d-f438-8afcd881f900",
        "colab": {
          "base_uri": "https://localhost:8080/",
          "height": 733
        }
      },
      "source": [
        "state_list=data.state.unique()\n",
        "state_dict = {val : idx + 1 for idx, val in enumerate(state_list)}\n",
        "data['state_code'] = data['state'].map(state_dict)\n",
        "state_dict"
      ],
      "execution_count": 9,
      "outputs": [
        {
          "output_type": "execute_result",
          "data": {
            "text/plain": [
              "{'ak': 2,\n",
              " 'al': 1,\n",
              " 'ar': 4,\n",
              " 'az': 3,\n",
              " 'ca': 5,\n",
              " 'co': 6,\n",
              " 'ct': 7,\n",
              " 'dc': 8,\n",
              " 'de': 10,\n",
              " 'fl': 9,\n",
              " 'ga': 11,\n",
              " 'hi': 12,\n",
              " 'ia': 16,\n",
              " 'id': 13,\n",
              " 'il': 14,\n",
              " 'in': 15,\n",
              " 'ks': 17,\n",
              " 'ky': 18,\n",
              " 'la': 19,\n",
              " 'ma': 23,\n",
              " 'md': 22,\n",
              " 'me': 20,\n",
              " 'mi': 21,\n",
              " 'mn': 24,\n",
              " 'mo': 27,\n",
              " 'ms': 25,\n",
              " 'mt': 28,\n",
              " nan: 39,\n",
              " 'nc': 26,\n",
              " 'nd': 36,\n",
              " 'ne': 29,\n",
              " 'nh': 34,\n",
              " 'nj': 31,\n",
              " 'nm': 32,\n",
              " 'nv': 30,\n",
              " 'ny': 33,\n",
              " 'oh': 35,\n",
              " 'ok': 37,\n",
              " 'or': 38}"
            ]
          },
          "metadata": {
            "tags": []
          },
          "execution_count": 9
        }
      ]
    },
    {
      "cell_type": "code",
      "metadata": {
        "id": "JMdUKH_CQqAm",
        "colab_type": "code",
        "colab": {}
      },
      "source": [
        "housetype_list=data.type.unique()\n",
        "housetype_dict = {val : idx + 1 for idx, val in enumerate(housetype_list)}\n",
        "#Mapping codes to their categories\n",
        "data['type_code'] = data['type'].map(housetype_dict)"
      ],
      "execution_count": 0,
      "outputs": []
    },
    {
      "cell_type": "code",
      "metadata": {
        "id": "bZaL7NpZ6vZ_",
        "colab_type": "code",
        "outputId": "e64db086-d718-43ae-d197-4f8f7248f288",
        "colab": {
          "base_uri": "https://localhost:8080/",
          "height": 753
        }
      },
      "source": [
        "for state in data.state.unique():\n",
        "  reg_str='['\n",
        "  sub_data=data[data['state']==state]\n",
        "  for reg in sub_data.region.unique():\n",
        "    reg_str=reg_str+'\"'+str(regions_dict[reg])+\" \"+\"-\"+\" \"+reg+'\",'\n",
        "  reg_str=reg_str+']'\n",
        "  print(state,reg_str)"
      ],
      "execution_count": 11,
      "outputs": [
        {
          "output_type": "stream",
          "text": [
            "al [\"1 - birmingham\",\"2 - huntsville / decatur\",\"3 - dothan\",\"4 - mobile\",\"5 - montgomery\",\"6 - florence / muscle shoals\",\"7 - gadsden-anniston\",\"8 - tuscaloosa\",]\n",
            "ak [\"9 - anchorage / mat-su\",\"10 - fairbanks\",\"25 - kenai peninsula\",\"26 - southeast alaska\",]\n",
            "az [\"11 - phoenix\",\"12 - flagstaff / sedona\",\"13 - tucson\",\"15 - prescott\",\"16 - yuma\",\"27 - mohave county\",\"30 - show low\",\"32 - sierra vista\",]\n",
            "ar [\"14 - little rock\",\"17 - fayetteville\",\"19 - texarkana\",\"28 - fort smith\",\"29 - jonesboro\",]\n",
            "ca [\"18 - bakersfield\",\"20 - fresno / madera\",\"21 - hanford-corcoran\",\"22 - humboldt county\",\"23 - inland empire\",\"24 - los angeles\",\"31 - gold country\",\"33 - chico\",\"34 - imperial county\",\"36 - modesto\",\"37 - orange county\",\"38 - mendocino county\",\"39 - merced\",\"40 - palm springs\",\"41 - reno / tahoe\",\"42 - monterey bay\",\"43 - redding\",\"44 - sacramento\",\"45 - san diego\",\"46 - san luis obispo\",\"47 - santa barbara\",\"48 - SF bay area\",\"49 - stockton\",\"50 - ventura county\",\"51 - susanville\",\"53 - yuba-sutter\",\"54 - visalia-tulare\",\"55 - siskiyou county\",\"56 - santa maria\",]\n",
            "co [\"35 - boulder\",\"52 - colorado springs\",\"57 - denver\",\"59 - fort collins / north CO\",\"60 - western slope\",\"65 - high rockies\",\"66 - pueblo\",\"72 - eastern CO\",]\n",
            "ct [\"58 - northwest CT\",\"61 - eastern CT\",\"62 - hartford\",\"63 - new haven\",]\n",
            "dc [\"64 - washington, DC\",]\n",
            "fl [\"67 - daytona beach\",\"68 - ft myers / SW florida\",\"69 - gainesville\",\"70 - jacksonville\",\"71 - ocala\",\"73 - heartland florida\",\"75 - lakeland\",\"76 - florida keys\",\"77 - north central FL\",\"78 - orlando\",\"79 - panama city\",\"80 - pensacola\",\"81 - sarasota-bradenton\",\"82 - south florida\",\"83 - okaloosa / walton\",\"84 - space coast\",\"85 - tallahassee\",\"86 - tampa bay area\",\"91 - treasure coast\",\"93 - st augustine\",]\n",
            "de [\"74 - delaware\",]\n",
            "ga [\"87 - atlanta\",\"88 - augusta\",\"89 - brunswick\",\"90 - athens\",\"92 - albany\",\"94 - macon / warner robins\",\"95 - columbus\",\"96 - northwest GA\",\"97 - savannah / hinesville\",\"101 - statesboro\",\"103 - valdosta\",]\n",
            "hi [\"98 - hawaii\",]\n",
            "id [\"99 - boise\",\"100 - east idaho\",\"102 - spokane / coeur d'alene\",\"107 - twin falls\",\"116 - lewiston / clarkston\",\"117 - pullman / moscow\",]\n",
            "il [\"104 - bloomington-normal\",\"105 - champaign urbana\",\"106 - chicago\",\"108 - decatur\",\"109 - la salle co\",\"110 - quad cities, IA/IL\",\"111 - st louis, MO\",\"112 - peoria\",\"114 - springfield\",\"120 - rockford\",\"124 - southern illinois\",\"125 - mattoon-charleston\",\"127 - western IL\",]\n",
            "in [\"113 - evansville\",\"115 - bloomington\",\"118 - indianapolis\",\"119 - fort wayne\",\"121 - south bend / michiana\",\"123 - richmond\",\"126 - muncie / anderson\",\"128 - lafayette / west lafayette\",\"129 - kokomo\",\"130 - terre haute\",]\n",
            "ia [\"122 - ames\",\"131 - cedar rapids\",\"132 - des moines\",\"133 - omaha / council bluffs\",\"135 - fort dodge\",\"138 - sioux city\",\"142 - iowa city\",\"144 - dubuque\",\"146 - waterloo / cedar falls\",\"152 - mason city\",\"155 - southeast IA\",]\n",
            "ks [\"134 - wichita\",\"136 - lawrence\",\"137 - salina\",\"147 - manhattan\",\"149 - topeka\",\"154 - kansas city, MO\",\"157 - southeast KS\",\"159 - northwest KS\",\"160 - southwest KS\",]\n",
            "ky [\"139 - bowling green\",\"140 - lexington\",\"141 - eastern kentucky\",\"143 - louisville\",\"148 - western KY\",\"158 - huntington-ashland\",\"164 - owensboro\",]\n",
            "la [\"145 - baton rouge\",\"150 - lafayette\",\"151 - monroe\",\"153 - new orleans\",\"156 - lake charles\",\"161 - shreveport\",\"162 - central louisiana\",\"163 - houma\",]\n",
            "me [\"165 - maine\",]\n",
            "mi [\"166 - lansing\",\"176 - ann arbor\",\"177 - battle creek\",\"178 - detroit metro\",\"179 - holland\",\"181 - flint\",\"182 - kalamazoo\",\"151 - monroe\",\"183 - muskegon\",\"184 - saginaw-midland-baycity\",\"185 - upper peninsula\",\"188 - grand rapids\",\"190 - central michigan\",\"191 - northern michigan\",\"192 - jackson\",\"193 - southwest michigan\",\"194 - the thumb\",\"195 - port huron\",\"121 - south bend / michiana\",]\n",
            "md [\"167 - annapolis\",\"168 - baltimore\",\"169 - frederick\",\"170 - southern maryland\",\"175 - western maryland\",\"180 - cumberland valley\",\"186 - eastern shore\",]\n",
            "ma [\"171 - boston\",\"172 - south coast\",\"173 - western massachusetts\",\"174 - worcester / central MA\",\"187 - cape cod / islands\",]\n",
            "mn [\"189 - bemidji\",\"196 - brainerd\",\"197 - duluth / superior\",\"198 - fargo / moorhead\",\"199 - minneapolis / st paul\",\"200 - rochester\",\"202 - st cloud\",\"208 - mankato\",\"211 - southwest MN\",]\n",
            "ms [\"201 - gulfport / biloxi\",\"203 - hattiesburg\",\"192 - jackson\",\"205 - north mississippi\",\"209 - southwest MS\",\"222 - meridian\",]\n",
            "nc [\"204 - asheville\",\"213 - charlotte\",\"214 - boone\",\"17 - fayetteville\",\"217 - eastern NC\",\"218 - greensboro\",\"70 - jacksonville\",\"219 - raleigh / durham / CH\",\"220 - hickory / lenoir\",\"232 - outer banks\",\"233 - wilmington\",\"234 - winston-salem\",]\n",
            "mo [\"206 - joplin\",\"207 - kirksville\",\"114 - springfield\",\"210 - columbia / jeff city\",\"212 - st joseph\",\"221 - lake of the ozarks\",\"223 - southeast missouri\",\"224 - kansas city\",\"225 - st louis\",]\n",
            "mt [\"215 - billings\",\"216 - missoula\",\"226 - bozeman\",\"227 - eastern montana\",\"228 - kalispell\",\"229 - great falls\",\"230 - helena\",\"231 - butte\",]\n",
            "ne [\"235 - lincoln\",\"133 - omaha / council bluffs\",\"237 - north platte\",\"252 - grand island\",\"254 - scottsbluff / panhandle\",]\n",
            "nv [\"236 - las vegas\",\"41 - reno / tahoe\",\"259 - elko\",]\n",
            "nj [\"238 - central NJ\",\"239 - north jersey\",\"240 - jersey shore\",\"241 - south jersey\",]\n",
            "nm [\"242 - albuquerque\",\"245 - farmington\",\"253 - santa fe / taos\",\"260 - clovis / portales\",\"264 - las cruces\",\"265 - roswell / carlsbad\",]\n",
            "ny [\"243 - buffalo\",\"244 - ithaca\",\"246 - long island\",\"247 - hudson valley\",\"248 - syracuse\",\"249 - plattsburgh-adirondacks\",\"250 - catskills\",\"251 - watertown\",\"92 - albany\",\"255 - new york city\",\"256 - binghamton\",\"257 - utica-rome-oneida\",\"200 - rochester\",\"261 - finger lakes\",\"262 - chautauqua\",\"263 - elmira-corning\",\"266 - glens falls\",\"267 - potsdam-canton-massena\",\"268 - oneonta\",\"269 - twin tiers NY/PA\",]\n",
            "nh [\"258 - new hampshire\",]\n",
            "oh [\"270 - cincinnati\",\"272 - akron / canton\",\"95 - columbus\",\"275 - dayton / springfield\",\"276 - cleveland\",\"277 - lima / findlay\",\"278 - toledo\",\"279 - northern panhandle\",\"281 - zanesville / cambridge\",\"282 - ashtabula\",\"284 - chillicothe\",\"289 - tuscarawas co\",\"295 - mansfield\",\"90 - athens\",\"297 - parkersburg-marietta\",]\n",
            "nd [\"271 - north dakota\",\"273 - bismarck\",\"274 - grand forks\",]\n",
            "ok [\"280 - oklahoma city\",\"283 - lawton\",\"285 - texoma\",\"286 - tulsa\",\"296 - stillwater\",\"298 - northwest OK\",]\n",
            "or [\"287 - bend\",\"288 - corvallis/albany\",\"290 - east oregon\",\"291 - eugene\",\"292 - medford-ashland\",\"293 - oregon coast\",\"294 - portland\",]\n",
            "nan []\n"
          ],
          "name": "stdout"
        }
      ]
    },
    {
      "cell_type": "code",
      "metadata": {
        "id": "oCCqbkTbiLAN",
        "colab_type": "code",
        "outputId": "ea9662fc-bb32-437e-c427-689ca30edbb0",
        "colab": {
          "base_uri": "https://localhost:8080/",
          "height": 35
        }
      },
      "source": [
        "data_Clean=data.loc[\n",
        "    (data['price']>-132.5) & (data['price']<2399.5) &\n",
        "    (data['sqfeet']>146.0) & (data['sqfeet']<1762.0) &\n",
        "    (data['beds']>0) & (data['beds']<4) &\n",
        "    (data['baths']>0) & (data['baths']<4) &\n",
        "    (data['lat']>-90) & (data['lat']<90) &\n",
        "    (data['long']>-180) & (data['long']<180)\n",
        "]\n",
        "data_Clean.shape"
      ],
      "execution_count": 12,
      "outputs": [
        {
          "output_type": "execute_result",
          "data": {
            "text/plain": [
              "(228384, 22)"
            ]
          },
          "metadata": {
            "tags": []
          },
          "execution_count": 12
        }
      ]
    },
    {
      "cell_type": "code",
      "metadata": {
        "id": "yTacuy9Z5XzT",
        "colab_type": "code",
        "outputId": "37045610-dea4-423b-d682-8be92a927576",
        "colab": {
          "base_uri": "https://localhost:8080/",
          "height": 72
        }
      },
      "source": [
        "data_Clean.type.unique()"
      ],
      "execution_count": 13,
      "outputs": [
        {
          "output_type": "execute_result",
          "data": {
            "text/plain": [
              "array(['apartment', 'house', 'manufactured', 'townhouse', 'condo',\n",
              "       'duplex', 'in-law', 'cottage/cabin', 'flat', 'loft', 'land',\n",
              "       'assisted living'], dtype=object)"
            ]
          },
          "metadata": {
            "tags": []
          },
          "execution_count": 13
        }
      ]
    },
    {
      "cell_type": "code",
      "metadata": {
        "id": "PimAofnHhEJb",
        "colab_type": "code",
        "colab": {}
      },
      "source": [
        "cols = [col for col in data.columns if col not in ['type','region','laundry_options','parking_options','state','price']]\n",
        "X=data_Clean[cols]\n",
        "Y=data_Clean['price']"
      ],
      "execution_count": 0,
      "outputs": []
    },
    {
      "cell_type": "code",
      "metadata": {
        "id": "FMzU_gQ2hTLr",
        "colab_type": "code",
        "colab": {}
      },
      "source": [
        "#Train Test Split\n",
        "X_train, X_test, Y_train, Y_test = train_test_split(X.values, Y.values, test_size=0.33, random_state=42)"
      ],
      "execution_count": 0,
      "outputs": []
    },
    {
      "cell_type": "code",
      "metadata": {
        "id": "9-APCLgHhbln",
        "colab_type": "code",
        "outputId": "5c270d05-34e2-4cbf-a807-fe41dcb03e13",
        "colab": {
          "base_uri": "https://localhost:8080/",
          "height": 201
        }
      },
      "source": [
        "XGR = xgb.XGBRegressor()\n",
        "param_grid = {\"objective\":['reg:squarederror'],\n",
        "              'colsample_bytree': [0.7],\n",
        "              'learning_rate': [0.06],\n",
        "              'max_depth': [10], \n",
        "              'alpha': [1], \n",
        "              'n_estimators':[2500]}\n",
        "\n",
        "grid_search = GridSearchCV(estimator = XGR, param_grid = param_grid,cv=3, verbose=2)\n",
        "XGR_GS = grid_search.fit(X_train, Y_train)"
      ],
      "execution_count": 16,
      "outputs": [
        {
          "output_type": "stream",
          "text": [
            "Fitting 3 folds for each of 1 candidates, totalling 3 fits\n",
            "[CV] alpha=1, colsample_bytree=0.7, learning_rate=0.06, max_depth=10, n_estimators=2500, objective=reg:squarederror \n"
          ],
          "name": "stdout"
        },
        {
          "output_type": "stream",
          "text": [
            "[Parallel(n_jobs=1)]: Using backend SequentialBackend with 1 concurrent workers.\n"
          ],
          "name": "stderr"
        },
        {
          "output_type": "stream",
          "text": [
            "[CV]  alpha=1, colsample_bytree=0.7, learning_rate=0.06, max_depth=10, n_estimators=2500, objective=reg:squarederror, total= 7.4min\n",
            "[CV] alpha=1, colsample_bytree=0.7, learning_rate=0.06, max_depth=10, n_estimators=2500, objective=reg:squarederror \n"
          ],
          "name": "stdout"
        },
        {
          "output_type": "stream",
          "text": [
            "[Parallel(n_jobs=1)]: Done   1 out of   1 | elapsed:  7.4min remaining:    0.0s\n"
          ],
          "name": "stderr"
        },
        {
          "output_type": "stream",
          "text": [
            "[CV]  alpha=1, colsample_bytree=0.7, learning_rate=0.06, max_depth=10, n_estimators=2500, objective=reg:squarederror, total= 7.3min\n",
            "[CV] alpha=1, colsample_bytree=0.7, learning_rate=0.06, max_depth=10, n_estimators=2500, objective=reg:squarederror \n",
            "[CV]  alpha=1, colsample_bytree=0.7, learning_rate=0.06, max_depth=10, n_estimators=2500, objective=reg:squarederror, total= 7.2min\n"
          ],
          "name": "stdout"
        },
        {
          "output_type": "stream",
          "text": [
            "[Parallel(n_jobs=1)]: Done   3 out of   3 | elapsed: 21.9min finished\n"
          ],
          "name": "stderr"
        }
      ]
    },
    {
      "cell_type": "code",
      "metadata": {
        "id": "V4vUo01whcE7",
        "colab_type": "code",
        "outputId": "f5d97bdc-2837-4f50-8c32-c7cdebc87091",
        "colab": {
          "base_uri": "https://localhost:8080/",
          "height": 146
        }
      },
      "source": [
        "XGR_GS.best_estimator_"
      ],
      "execution_count": 17,
      "outputs": [
        {
          "output_type": "execute_result",
          "data": {
            "text/plain": [
              "XGBRegressor(alpha=1, base_score=0.5, booster='gbtree', colsample_bylevel=1,\n",
              "             colsample_bynode=1, colsample_bytree=0.7, gamma=0,\n",
              "             importance_type='gain', learning_rate=0.06, max_delta_step=0,\n",
              "             max_depth=10, min_child_weight=1, missing=None, n_estimators=2500,\n",
              "             n_jobs=1, nthread=None, objective='reg:squarederror',\n",
              "             random_state=0, reg_alpha=0, reg_lambda=1, scale_pos_weight=1,\n",
              "             seed=None, silent=None, subsample=1, verbosity=1)"
            ]
          },
          "metadata": {
            "tags": []
          },
          "execution_count": 17
        }
      ]
    },
    {
      "cell_type": "code",
      "metadata": {
        "id": "XU_zGJdnhhix",
        "colab_type": "code",
        "colab": {}
      },
      "source": [
        "Y_pred_XGR = XGR_GS.predict(X_test)"
      ],
      "execution_count": 0,
      "outputs": []
    },
    {
      "cell_type": "code",
      "metadata": {
        "id": "5Uks3kMqhh15",
        "colab_type": "code",
        "colab": {}
      },
      "source": [
        "import pickle\n",
        "\n",
        "# Saving model to disk\n",
        "\n",
        "pickle.dump(XGR_GS, open('/content/drive/My Drive/Projects/HouseRent_XGB_1.pkl','wb'))"
      ],
      "execution_count": 0,
      "outputs": []
    },
    {
      "cell_type": "code",
      "metadata": {
        "id": "vYdKqPIuhpkN",
        "colab_type": "code",
        "outputId": "951f68a8-7560-4be9-e1af-6cafe394dfeb",
        "colab": {
          "base_uri": "https://localhost:8080/",
          "height": 403
        }
      },
      "source": [
        "model = pickle.load(open('/content/drive/My Drive/Projects/HouseRent_XGB_1.pkl','rb'))\n",
        "# ['sqfeet', 'beds', 'baths', 'cats_allowed', 'dogs_allowed', 'smoking_allowed', 'wheelchair_access', 'electric_vehicle_charge',\n",
        "# 'comes_furnished', 'lat', 'long', 'region_code', 'type_code', 'laundry_options_code', 'parking_options_code', 'state_code']\n",
        "print(model)\n",
        "#print(model.n_features)\n",
        "\n",
        "print('Test Result:-')\n",
        "print(model.predict([[1500,3,2,0,0,0,0,1,0,120,120,10,1,2,1,2]]))"
      ],
      "execution_count": 20,
      "outputs": [
        {
          "output_type": "stream",
          "text": [
            "GridSearchCV(cv=3, error_score=nan,\n",
            "             estimator=XGBRegressor(base_score=0.5, booster='gbtree',\n",
            "                                    colsample_bylevel=1, colsample_bynode=1,\n",
            "                                    colsample_bytree=1, gamma=0,\n",
            "                                    importance_type='gain', learning_rate=0.1,\n",
            "                                    max_delta_step=0, max_depth=3,\n",
            "                                    min_child_weight=1, missing=nan,\n",
            "                                    n_estimators=100, n_jobs=1, nthread=None,\n",
            "                                    objective='reg:linear', random_state=0,\n",
            "                                    reg_alpha=0, reg_lambda=1,\n",
            "                                    scale_pos_weight=1, seed=None, silent=None,\n",
            "                                    subsample=1, verbosity=1),\n",
            "             iid='deprecated', n_jobs=None,\n",
            "             param_grid={'alpha': [1], 'colsample_bytree': [0.7],\n",
            "                         'learning_rate': [0.06], 'max_depth': [10],\n",
            "                         'n_estimators': [2500],\n",
            "                         'objective': ['reg:squarederror']},\n",
            "             pre_dispatch='2*n_jobs', refit=True, return_train_score=False,\n",
            "             scoring=None, verbose=2)\n",
            "Test Result:-\n",
            "[759.6067]\n"
          ],
          "name": "stdout"
        }
      ]
    },
    {
      "cell_type": "code",
      "metadata": {
        "id": "cuN9phnd8xrM",
        "colab_type": "code",
        "outputId": "bb905dbe-14dd-4b43-9d59-fa6eb9f2e06a",
        "colab": {
          "base_uri": "https://localhost:8080/",
          "height": 35
        }
      },
      "source": [
        "import joblib\n",
        "\n",
        "# To dump\n",
        "joblib.dump(XGR_GS, '/content/drive/My Drive/Projects/HouseRent_Joblib_XGB.joblib' + '.gz', compress=('gzip', 9)) "
      ],
      "execution_count": 21,
      "outputs": [
        {
          "output_type": "execute_result",
          "data": {
            "text/plain": [
              "['/content/drive/My Drive/Projects/HouseRent_Joblib_XGB.joblib.gz']"
            ]
          },
          "metadata": {
            "tags": []
          },
          "execution_count": 21
        }
      ]
    },
    {
      "cell_type": "code",
      "metadata": {
        "id": "VTn2pq-mEvu-",
        "colab_type": "code",
        "colab": {
          "base_uri": "https://localhost:8080/",
          "height": 403
        },
        "outputId": "3aab1970-7fab-433d-e3ee-11f2c5fbfd79"
      },
      "source": [
        "#model = joblib.load(open('/content/drive/My Drive/Projects/HouseRent_Joblib_XGB.joblib'))\n",
        "model = joblib.load('/content/drive/My Drive/Projects/HouseRent_Joblib_XGB.joblib' + '.gz')\n",
        "# ['sqfeet', 'beds', 'baths', 'cats_allowed', 'dogs_allowed', 'smoking_allowed', 'wheelchair_access', 'electric_vehicle_charge',\n",
        "# 'comes_furnished', 'lat', 'long', 'region_code', 'type_code', 'laundry_options_code', 'parking_options_code', 'state_code']\n",
        "print(model)\n",
        "#print(model.n_features)\n",
        "\n",
        "print('Test Result:-')\n",
        "print(model.predict([[1500,3,2,0,0,0,0,1,0,120,120,10,1,2,1,2]]))"
      ],
      "execution_count": 22,
      "outputs": [
        {
          "output_type": "stream",
          "text": [
            "GridSearchCV(cv=3, error_score=nan,\n",
            "             estimator=XGBRegressor(base_score=0.5, booster='gbtree',\n",
            "                                    colsample_bylevel=1, colsample_bynode=1,\n",
            "                                    colsample_bytree=1, gamma=0,\n",
            "                                    importance_type='gain', learning_rate=0.1,\n",
            "                                    max_delta_step=0, max_depth=3,\n",
            "                                    min_child_weight=1, missing=nan,\n",
            "                                    n_estimators=100, n_jobs=1, nthread=None,\n",
            "                                    objective='reg:linear', random_state=0,\n",
            "                                    reg_alpha=0, reg_lambda=1,\n",
            "                                    scale_pos_weight=1, seed=None, silent=None,\n",
            "                                    subsample=1, verbosity=1),\n",
            "             iid='deprecated', n_jobs=None,\n",
            "             param_grid={'alpha': [1], 'colsample_bytree': [0.7],\n",
            "                         'learning_rate': [0.06], 'max_depth': [10],\n",
            "                         'n_estimators': [2500],\n",
            "                         'objective': ['reg:squarederror']},\n",
            "             pre_dispatch='2*n_jobs', refit=True, return_train_score=False,\n",
            "             scoring=None, verbose=2)\n",
            "Test Result:-\n",
            "[759.6067]\n"
          ],
          "name": "stdout"
        }
      ]
    },
    {
      "cell_type": "code",
      "metadata": {
        "id": "ytaqHEm_uTbD",
        "colab_type": "code",
        "colab": {
          "base_uri": "https://localhost:8080/",
          "height": 35
        },
        "outputId": "13a3a53b-c905-493f-cc5d-33fd22843929"
      },
      "source": [
        "pip freeze | grep scikit-learn"
      ],
      "execution_count": 24,
      "outputs": [
        {
          "output_type": "stream",
          "text": [
            "scikit-learn==0.22.2.post1\n"
          ],
          "name": "stdout"
        }
      ]
    },
    {
      "cell_type": "code",
      "metadata": {
        "id": "8ktNgGVbw6ic",
        "colab_type": "code",
        "colab": {
          "base_uri": "https://localhost:8080/",
          "height": 35
        },
        "outputId": "2d0c5705-88a8-4a07-e236-f647f0b19699"
      },
      "source": [
        "pip freeze | grep xgboost"
      ],
      "execution_count": 23,
      "outputs": [
        {
          "output_type": "stream",
          "text": [
            "xgboost==0.90\n"
          ],
          "name": "stdout"
        }
      ]
    },
    {
      "cell_type": "code",
      "metadata": {
        "id": "uMtPDXepxAUU",
        "colab_type": "code",
        "colab": {}
      },
      "source": [
        ""
      ],
      "execution_count": 0,
      "outputs": []
    }
  ]
}